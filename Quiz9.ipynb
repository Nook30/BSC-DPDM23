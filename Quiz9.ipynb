{
  "nbformat": 4,
  "nbformat_minor": 0,
  "metadata": {
    "colab": {
      "provenance": [],
      "authorship_tag": "ABX9TyM8TjEw2i1qLHL/HF0jwmKD",
      "include_colab_link": true
    },
    "kernelspec": {
      "name": "python3",
      "display_name": "Python 3"
    },
    "language_info": {
      "name": "python"
    }
  },
  "cells": [
    {
      "cell_type": "markdown",
      "metadata": {
        "id": "view-in-github",
        "colab_type": "text"
      },
      "source": [
        "<a href=\"https://colab.research.google.com/github/Nook30/BSC-DPDM23/blob/main/Quiz9.ipynb\" target=\"_parent\"><img src=\"https://colab.research.google.com/assets/colab-badge.svg\" alt=\"Open In Colab\"/></a>"
      ]
    },
    {
      "cell_type": "code",
      "execution_count": null,
      "metadata": {
        "id": "on8BXapPdXbX"
      },
      "outputs": [],
      "source": [
        "file:///C:/Users/HW/Downloads/Quiz9.pdf"
      ]
    },
    {
      "cell_type": "markdown",
      "source": [
        "file:///C:/Users/HW/Downloads/Quiz9.pdf"
      ],
      "metadata": {
        "id": "t9-p1MHHddGM"
      }
    }
  ]
}